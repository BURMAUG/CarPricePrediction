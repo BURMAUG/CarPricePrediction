{
 "cells": [
  {
   "cell_type": "markdown",
   "source": [],
   "metadata": {
    "collapsed": false
   },
   "id": "fe67c6877f1c2734"
  },
  {
   "cell_type": "code",
   "execution_count": 4,
   "id": "130c7ab8",
   "metadata": {
    "ExecuteTime": {
     "end_time": "2024-02-02T12:55:02.212934Z",
     "start_time": "2024-02-02T12:55:00.033460Z"
    }
   },
   "outputs": [],
   "source": [
    "import pandas as pd\n",
    "import numpy as np\n",
    "import seaborn as sns\n",
    "\n",
    "from matplotlib import pyplot as plt\n",
    "%matplotlib inline"
   ]
  },
  {
   "cell_type": "code",
   "execution_count": 6,
   "id": "2a419ee4",
   "metadata": {
    "ExecuteTime": {
     "end_time": "2024-02-02T12:58:31.270924Z",
     "start_time": "2024-02-02T12:58:31.186789Z"
    }
   },
   "outputs": [
    {
     "data": {
      "text/plain": "  Make       Model  Year             Engine Fuel Type  Engine HP  \\\n0  BMW  1 Series M  2011  premium unleaded (required)      335.0   \n1  BMW    1 Series  2011  premium unleaded (required)      300.0   \n2  BMW    1 Series  2011  premium unleaded (required)      300.0   \n3  BMW    1 Series  2011  premium unleaded (required)      230.0   \n4  BMW    1 Series  2011  premium unleaded (required)      230.0   \n\n   Engine Cylinders Transmission Type     Driven_Wheels  Number of Doors  \\\n0               6.0            MANUAL  rear wheel drive              2.0   \n1               6.0            MANUAL  rear wheel drive              2.0   \n2               6.0            MANUAL  rear wheel drive              2.0   \n3               6.0            MANUAL  rear wheel drive              2.0   \n4               6.0            MANUAL  rear wheel drive              2.0   \n\n                         Market Category Vehicle Size Vehicle Style  \\\n0  Factory Tuner,Luxury,High-Performance      Compact         Coupe   \n1                     Luxury,Performance      Compact   Convertible   \n2                Luxury,High-Performance      Compact         Coupe   \n3                     Luxury,Performance      Compact         Coupe   \n4                                 Luxury      Compact   Convertible   \n\n   highway MPG  city mpg  Popularity   MSRP  \n0           26        19        3916  46135  \n1           28        19        3916  40650  \n2           28        20        3916  36350  \n3           28        18        3916  29450  \n4           28        18        3916  34500  ",
      "text/html": "<div>\n<style scoped>\n    .dataframe tbody tr th:only-of-type {\n        vertical-align: middle;\n    }\n\n    .dataframe tbody tr th {\n        vertical-align: top;\n    }\n\n    .dataframe thead th {\n        text-align: right;\n    }\n</style>\n<table border=\"1\" class=\"dataframe\">\n  <thead>\n    <tr style=\"text-align: right;\">\n      <th></th>\n      <th>Make</th>\n      <th>Model</th>\n      <th>Year</th>\n      <th>Engine Fuel Type</th>\n      <th>Engine HP</th>\n      <th>Engine Cylinders</th>\n      <th>Transmission Type</th>\n      <th>Driven_Wheels</th>\n      <th>Number of Doors</th>\n      <th>Market Category</th>\n      <th>Vehicle Size</th>\n      <th>Vehicle Style</th>\n      <th>highway MPG</th>\n      <th>city mpg</th>\n      <th>Popularity</th>\n      <th>MSRP</th>\n    </tr>\n  </thead>\n  <tbody>\n    <tr>\n      <th>0</th>\n      <td>BMW</td>\n      <td>1 Series M</td>\n      <td>2011</td>\n      <td>premium unleaded (required)</td>\n      <td>335.0</td>\n      <td>6.0</td>\n      <td>MANUAL</td>\n      <td>rear wheel drive</td>\n      <td>2.0</td>\n      <td>Factory Tuner,Luxury,High-Performance</td>\n      <td>Compact</td>\n      <td>Coupe</td>\n      <td>26</td>\n      <td>19</td>\n      <td>3916</td>\n      <td>46135</td>\n    </tr>\n    <tr>\n      <th>1</th>\n      <td>BMW</td>\n      <td>1 Series</td>\n      <td>2011</td>\n      <td>premium unleaded (required)</td>\n      <td>300.0</td>\n      <td>6.0</td>\n      <td>MANUAL</td>\n      <td>rear wheel drive</td>\n      <td>2.0</td>\n      <td>Luxury,Performance</td>\n      <td>Compact</td>\n      <td>Convertible</td>\n      <td>28</td>\n      <td>19</td>\n      <td>3916</td>\n      <td>40650</td>\n    </tr>\n    <tr>\n      <th>2</th>\n      <td>BMW</td>\n      <td>1 Series</td>\n      <td>2011</td>\n      <td>premium unleaded (required)</td>\n      <td>300.0</td>\n      <td>6.0</td>\n      <td>MANUAL</td>\n      <td>rear wheel drive</td>\n      <td>2.0</td>\n      <td>Luxury,High-Performance</td>\n      <td>Compact</td>\n      <td>Coupe</td>\n      <td>28</td>\n      <td>20</td>\n      <td>3916</td>\n      <td>36350</td>\n    </tr>\n    <tr>\n      <th>3</th>\n      <td>BMW</td>\n      <td>1 Series</td>\n      <td>2011</td>\n      <td>premium unleaded (required)</td>\n      <td>230.0</td>\n      <td>6.0</td>\n      <td>MANUAL</td>\n      <td>rear wheel drive</td>\n      <td>2.0</td>\n      <td>Luxury,Performance</td>\n      <td>Compact</td>\n      <td>Coupe</td>\n      <td>28</td>\n      <td>18</td>\n      <td>3916</td>\n      <td>29450</td>\n    </tr>\n    <tr>\n      <th>4</th>\n      <td>BMW</td>\n      <td>1 Series</td>\n      <td>2011</td>\n      <td>premium unleaded (required)</td>\n      <td>230.0</td>\n      <td>6.0</td>\n      <td>MANUAL</td>\n      <td>rear wheel drive</td>\n      <td>2.0</td>\n      <td>Luxury</td>\n      <td>Compact</td>\n      <td>Convertible</td>\n      <td>28</td>\n      <td>18</td>\n      <td>3916</td>\n      <td>34500</td>\n    </tr>\n  </tbody>\n</table>\n</div>"
     },
     "execution_count": 6,
     "metadata": {},
     "output_type": "execute_result"
    }
   ],
   "source": [
    "df = pd.read_csv(\"data.csv\")\n",
    "df.head()"
   ]
  },
  {
   "cell_type": "code",
   "execution_count": 8,
   "id": "2bfea525",
   "metadata": {
    "ExecuteTime": {
     "end_time": "2024-02-02T13:20:23.475466Z",
     "start_time": "2024-02-02T13:20:23.409578Z"
    }
   },
   "outputs": [],
   "source": [
    "df.columns= df.columns.str.lower().str.replace(' ', '_')\n",
    "string_columns = list(df.dtypes[df.dtypes == 'object'].index)\n",
    "\n",
    "for col in string_columns:\n",
    "    df[col] = df[col].str.lower().str.replace(' ', '_')"
   ]
  },
  {
   "cell_type": "code",
   "execution_count": 9,
   "id": "004d64c1",
   "metadata": {
    "ExecuteTime": {
     "end_time": "2024-02-02T13:20:23.916170Z",
     "start_time": "2024-02-02T13:20:23.867181Z"
    }
   },
   "outputs": [
    {
     "data": {
      "text/plain": "make                    0\nmodel                   0\nyear                    0\nengine_fuel_type        3\nengine_hp              69\nengine_cylinders       30\ntransmission_type       0\ndriven_wheels           0\nnumber_of_doors         6\nmarket_category      3742\nvehicle_size            0\nvehicle_style           0\nhighway_mpg             0\ncity_mpg                0\npopularity              0\nmsrp                    0\ndtype: int64"
     },
     "execution_count": 9,
     "metadata": {},
     "output_type": "execute_result"
    }
   ],
   "source": [
    "df.isnull().sum()"
   ]
  },
  {
   "cell_type": "code",
   "execution_count": 10,
   "id": "038c4736",
   "metadata": {
    "ExecuteTime": {
     "end_time": "2024-02-02T13:20:25.237625Z",
     "start_time": "2024-02-02T13:20:25.190452Z"
    }
   },
   "outputs": [],
   "source": [
    "#dataset splitting"
   ]
  },
  {
   "cell_type": "code",
   "execution_count": 11,
   "id": "d3278c9c",
   "metadata": {
    "ExecuteTime": {
     "end_time": "2024-02-02T13:20:26.113930Z",
     "start_time": "2024-02-02T13:20:26.074907Z"
    }
   },
   "outputs": [],
   "source": [
    "n = len(df)\n",
    "\n",
    "n_val = int(.2 * n)\n",
    "n_test = int(.2 * n)\n",
    "n_train = n - int(n_test + n_val)\n"
   ]
  },
  {
   "cell_type": "code",
   "execution_count": 12,
   "id": "794e60e2",
   "metadata": {
    "ExecuteTime": {
     "end_time": "2024-02-02T13:20:27.248113Z",
     "start_time": "2024-02-02T13:20:27.192434Z"
    }
   },
   "outputs": [],
   "source": [
    "#created a fixed random generator so that the data remains constant even"
   ]
  },
  {
   "cell_type": "code",
   "execution_count": 13,
   "id": "98477015",
   "metadata": {
    "ExecuteTime": {
     "end_time": "2024-02-02T13:20:27.721273Z",
     "start_time": "2024-02-02T13:20:27.683255Z"
    }
   },
   "outputs": [],
   "source": [
    "np.random.seed(2)\n",
    "idx = np.arange(n)\n",
    "np.random.shuffle(idx)\n",
    "\n",
    "df_shuffled = df.iloc[idx]"
   ]
  },
  {
   "cell_type": "code",
   "execution_count": 14,
   "id": "bfa3d8a2",
   "metadata": {
    "ExecuteTime": {
     "end_time": "2024-02-02T13:20:30.616661Z",
     "start_time": "2024-02-02T13:20:30.579757Z"
    }
   },
   "outputs": [],
   "source": [
    "#Now Spliting begins"
   ]
  },
  {
   "cell_type": "code",
   "execution_count": 15,
   "id": "291ef8f0",
   "metadata": {
    "ExecuteTime": {
     "end_time": "2024-02-02T13:20:31.351841Z",
     "start_time": "2024-02-02T13:20:31.309430Z"
    }
   },
   "outputs": [],
   "source": [
    "df_train = df_shuffled.iloc[:n_train].copy()\n",
    "df_val = df_shuffled.iloc[n_train:n_train+n_val].copy()\n",
    "df_test = df_shuffled.iloc[n_train+n_val:].copy()"
   ]
  },
  {
   "cell_type": "code",
   "execution_count": 16,
   "id": "d774a071",
   "metadata": {
    "ExecuteTime": {
     "end_time": "2024-02-02T13:20:33.033536Z",
     "start_time": "2024-02-02T13:20:32.995588Z"
    }
   },
   "outputs": [],
   "source": [
    "# splitting into target values for all data-split"
   ]
  },
  {
   "cell_type": "code",
   "execution_count": 17,
   "id": "01761feb",
   "metadata": {
    "ExecuteTime": {
     "end_time": "2024-02-02T13:20:34.565643Z",
     "start_time": "2024-02-02T13:20:34.529567Z"
    }
   },
   "outputs": [],
   "source": [
    "y_train = np.log1p(df_train.msrp.values)\n",
    "y_val = np.log1p(df_val.msrp.values)\n",
    "y_test = np.log1p(df_test.msrp.values)"
   ]
  },
  {
   "cell_type": "code",
   "execution_count": 17,
   "id": "58e218fa",
   "metadata": {
    "ExecuteTime": {
     "end_time": "2024-02-02T13:20:36.335999Z",
     "start_time": "2024-02-02T13:20:36.296335Z"
    }
   },
   "outputs": [],
   "source": []
  },
  {
   "cell_type": "code",
   "execution_count": 18,
   "id": "1b7c5dbe",
   "metadata": {
    "ExecuteTime": {
     "end_time": "2024-02-02T13:20:36.489830Z",
     "start_time": "2024-02-02T13:20:36.451073Z"
    }
   },
   "outputs": [],
   "source": [
    "# delete target values in the training, testing, validation dataframes"
   ]
  },
  {
   "cell_type": "code",
   "execution_count": 19,
   "id": "4c53ea12",
   "metadata": {
    "ExecuteTime": {
     "end_time": "2024-02-02T13:20:38.536517Z",
     "start_time": "2024-02-02T13:20:38.500330Z"
    }
   },
   "outputs": [],
   "source": [
    "del df_train['msrp']\n",
    "del df_val['msrp']\n",
    "del df_test['msrp']"
   ]
  },
  {
   "cell_type": "code",
   "execution_count": 20,
   "id": "a980aed3",
   "metadata": {
    "ExecuteTime": {
     "end_time": "2024-02-02T13:20:42.659398Z",
     "start_time": "2024-02-02T13:20:42.626726Z"
    }
   },
   "outputs": [],
   "source": [
    "# Figure out the g(X) aka linear regression"
   ]
  },
  {
   "cell_type": "code",
   "execution_count": 21,
   "id": "84c8a3e6",
   "metadata": {
    "ExecuteTime": {
     "end_time": "2024-02-02T13:20:44.045665Z",
     "start_time": "2024-02-02T13:20:44.018426Z"
    }
   },
   "outputs": [
    {
     "name": "stdout",
     "output_type": "stream",
     "text": [
      "461389.48385150096\n"
     ]
    }
   ],
   "source": [
    "w = [7.9,.01,.04,.002]\n",
    "def g(xi):\n",
    "    result = 0\n",
    "    for x in range(len(xi)):\n",
    "        result += w[x+1] * xi[x]\n",
    "    return result+w[0]\n",
    "xi = [453, 11, 86]\n",
    "print(np.exp(g(xi))-1)"
   ]
  },
  {
   "cell_type": "code",
   "execution_count": 22,
   "id": "6f8803e3",
   "metadata": {
    "ExecuteTime": {
     "end_time": "2024-02-02T13:20:46.906106Z",
     "start_time": "2024-02-02T13:20:46.868799Z"
    }
   },
   "outputs": [],
   "source": [
    "predictions = []"
   ]
  },
  {
   "cell_type": "code",
   "execution_count": 23,
   "id": "6449f5f8",
   "metadata": {
    "ExecuteTime": {
     "end_time": "2024-02-02T13:20:50.283792Z",
     "start_time": "2024-02-02T13:20:50.245476Z"
    }
   },
   "outputs": [],
   "source": [
    "def train_linear_reg(X, y):\n",
    "    ones = np.ones(X.shape[0])\n",
    "    X = np.column_stack([ones,X])\n",
    "    w = np.linalg.inv(X.T.dot(X)).dot(X.T).dot(y) #weights\n",
    "    return w[0], w[1:]\n"
   ]
  },
  {
   "cell_type": "code",
   "execution_count": 24,
   "id": "6ea0cf51",
   "metadata": {
    "ExecuteTime": {
     "end_time": "2024-02-02T13:20:52.591961Z",
     "start_time": "2024-02-02T13:20:52.562001Z"
    }
   },
   "outputs": [],
   "source": [
    "# y_pred = w0 + X.dot(w)"
   ]
  },
  {
   "cell_type": "code",
   "execution_count": 25,
   "id": "55278356",
   "metadata": {
    "ExecuteTime": {
     "end_time": "2024-02-02T13:20:53.516949Z",
     "start_time": "2024-02-02T13:20:53.484530Z"
    }
   },
   "outputs": [],
   "source": [
    "base = ['engine_hp', 'engine_cylinders', 'highway_mpg', 'city_mpg', 'popularity']"
   ]
  },
  {
   "cell_type": "code",
   "execution_count": 26,
   "id": "c6631c0a",
   "metadata": {
    "ExecuteTime": {
     "end_time": "2024-02-02T13:20:54.011633Z",
     "start_time": "2024-02-02T13:20:53.970237Z"
    }
   },
   "outputs": [],
   "source": [
    "df_nums = df_train[base]"
   ]
  },
  {
   "cell_type": "code",
   "execution_count": 27,
   "id": "722c8e40",
   "metadata": {
    "ExecuteTime": {
     "end_time": "2024-02-02T13:20:54.674891Z",
     "start_time": "2024-02-02T13:20:54.630883Z"
    }
   },
   "outputs": [],
   "source": [
    "df_nums = df_nums.fillna(0)\n",
    "X_train = df_nums.values"
   ]
  },
  {
   "cell_type": "code",
   "execution_count": 28,
   "id": "f1357453",
   "metadata": {
    "ExecuteTime": {
     "end_time": "2024-02-02T13:20:57.491194Z",
     "start_time": "2024-02-02T13:20:57.444767Z"
    }
   },
   "outputs": [],
   "source": [
    "w0, w = train_linear_reg(X_train, y_train)"
   ]
  },
  {
   "cell_type": "code",
   "execution_count": 29,
   "id": "73b6c9ae",
   "metadata": {
    "ExecuteTime": {
     "end_time": "2024-02-02T13:20:58.963304Z",
     "start_time": "2024-02-02T13:20:58.917884Z"
    }
   },
   "outputs": [
    {
     "data": {
      "text/plain": "7.927257388069986"
     },
     "execution_count": 29,
     "metadata": {},
     "output_type": "execute_result"
    }
   ],
   "source": [
    "w0"
   ]
  },
  {
   "cell_type": "code",
   "execution_count": 30,
   "id": "4df0bbc8",
   "metadata": {
    "ExecuteTime": {
     "end_time": "2024-02-02T13:21:00.506667Z",
     "start_time": "2024-02-02T13:21:00.463146Z"
    }
   },
   "outputs": [
    {
     "data": {
      "text/plain": "array([ 9.70589522e-03, -1.59103494e-01,  1.43792133e-02,  1.49441072e-02,\n       -9.06908672e-06])"
     },
     "execution_count": 30,
     "metadata": {},
     "output_type": "execute_result"
    }
   ],
   "source": [
    "w"
   ]
  },
  {
   "cell_type": "code",
   "execution_count": 31,
   "id": "123b447f",
   "metadata": {
    "ExecuteTime": {
     "end_time": "2024-02-02T13:21:03.693119Z",
     "start_time": "2024-02-02T13:21:03.555436Z"
    }
   },
   "outputs": [],
   "source": [
    " y_pred = w0 + X_train.dot(w)"
   ]
  },
  {
   "cell_type": "code",
   "execution_count": 32,
   "id": "60302dad",
   "metadata": {
    "ExecuteTime": {
     "end_time": "2024-02-02T13:21:08.210100Z",
     "start_time": "2024-02-02T13:21:08.164960Z"
    }
   },
   "outputs": [
    {
     "data": {
      "text/plain": "array([ 14014.62180872,  11935.30375066,  15865.69570384, ...,\n        29857.6585652 , 159194.99512196,  21995.33467203])"
     },
     "execution_count": 32,
     "metadata": {},
     "output_type": "execute_result"
    }
   ],
   "source": [
    "np.exp(y_pred)-1"
   ]
  },
  {
   "cell_type": "code",
   "execution_count": 33,
   "id": "2180621a",
   "metadata": {
    "ExecuteTime": {
     "end_time": "2024-02-02T13:21:13.287070Z",
     "start_time": "2024-02-02T13:21:12.500254Z"
    }
   },
   "outputs": [
    {
     "data": {
      "text/plain": "<matplotlib.legend.Legend at 0x114896e50>"
     },
     "execution_count": 33,
     "metadata": {},
     "output_type": "execute_result"
    },
    {
     "data": {
      "text/plain": "<Figure size 640x480 with 1 Axes>",
      "image/png": "[encoded data removed]"
     },
     "metadata": {},
     "output_type": "display_data"
    }
   ],
   "source": [
    "sns.histplot(y_pred, label='pred')\n",
    "sns.histplot(y_train, label='target')\n",
    "plt.legend()"
   ]
  },
  {
   "cell_type": "code",
   "execution_count": 194,
   "id": "17d09a2a",
   "metadata": {},
   "outputs": [],
   "source": [
    "# .2 RMSE"
   ]
  },
  {
   "cell_type": "code",
   "execution_count": 195,
   "id": "506d328b",
   "metadata": {},
   "outputs": [],
   "source": [
    "def rmse(y, y_pred):\n",
    "    error = y - y_pred\n",
    "    mse = (error**2).mean()\n",
    "    return np.sqrt(mse)\n"
   ]
  },
  {
   "cell_type": "code",
   "execution_count": 196,
   "id": "34390c21",
   "metadata": {},
   "outputs": [
    {
     "data": {
      "text/plain": [
       "0.7554192603920132"
      ]
     },
     "execution_count": 196,
     "metadata": {},
     "output_type": "execute_result"
    }
   ],
   "source": [
    "rmse(y_train, y_pred)"
   ]
  },
  {
   "cell_type": "code",
   "execution_count": 197,
   "id": "31e319ca",
   "metadata": {},
   "outputs": [],
   "source": [
    "df_nums = df_val[base]\n",
    "df_nums = df_nums.fillna(0)\n",
    "X_val = df_nums.values"
   ]
  },
  {
   "cell_type": "code",
   "execution_count": 198,
   "id": "be96be46",
   "metadata": {},
   "outputs": [],
   "source": [
    "y_pred = w0 + X_val.dot(w)"
   ]
  },
  {
   "cell_type": "code",
   "execution_count": 199,
   "id": "7f61f626",
   "metadata": {},
   "outputs": [
    {
     "data": {
      "text/plain": [
       "0.7616530991301601"
      ]
     },
     "execution_count": 199,
     "metadata": {},
     "output_type": "execute_result"
    }
   ],
   "source": [
    "rmse(y_val, y_pred)"
   ]
  },
  {
   "cell_type": "code",
   "execution_count": 200,
   "id": "71e4750b",
   "metadata": {},
   "outputs": [],
   "source": [
    "# df_train['age'] = 2017 - df_train.year"
   ]
  },
  {
   "cell_type": "code",
   "execution_count": 201,
   "id": "6a5f899f",
   "metadata": {},
   "outputs": [],
   "source": [
    "# global features\n",
    "def prepare_X(df):\n",
    "    df = df.copy()\n",
    "    features = base.copy()\n",
    "    \n",
    "    df['age'] = 2017 - df.year\n",
    "    features.append('age')\n",
    "    \n",
    "    df_nums = df[features]\n",
    "    df_nums = df_nums.fillna(0)\n",
    "    X = df_nums.values\n",
    "    return X"
   ]
  },
  {
   "cell_type": "code",
   "execution_count": 202,
   "id": "6123fe76",
   "metadata": {},
   "outputs": [
    {
     "data": {
      "text/plain": [
       "0.5172055461058335"
      ]
     },
     "execution_count": 202,
     "metadata": {},
     "output_type": "execute_result"
    }
   ],
   "source": [
    "X_train = prepare_X(df_train)\n",
    "w0, w = train_linear_reg(X_train, y_train)\n",
    "\n",
    "X_val = prepare_X(df_val)\n",
    "y_pred = w0 + X_val.dot(w)\n",
    "rmse(y_val, y_pred)"
   ]
  },
  {
   "cell_type": "code",
   "execution_count": 203,
   "id": "245e86c4",
   "metadata": {},
   "outputs": [
    {
     "data": {
      "text/plain": [
       "<matplotlib.legend.Legend at 0x21bc9d7e500>"
      ]
     },
     "execution_count": 203,
     "metadata": {},
     "output_type": "execute_result"
    },
    {
     "data": {
      "image/png": "[encoded data removed]",
      "text/plain": [
       "<Figure size 640x480 with 1 Axes>"
      ]
     },
     "metadata": {},
     "output_type": "display_data"
    }
   ],
   "source": [
    "sns.histplot(y_pred, label='pred')\n",
    "sns.histplot(y_val, label='target')\n",
    "plt.legend()"
   ]
  },
  {
   "cell_type": "code",
   "execution_count": 204,
   "id": "f15ee5a1",
   "metadata": {},
   "outputs": [
    {
     "data": {
      "text/plain": [
       "'crossover,luxury'"
      ]
     },
     "execution_count": 204,
     "metadata": {},
     "output_type": "execute_result"
    }
   ],
   "source": [
    "e = df['market_category']\n",
    "len(e)\n",
    "e[6843]"
   ]
  },
  {
   "cell_type": "code",
   "execution_count": 205,
   "id": "d72bbd2a",
   "metadata": {},
   "outputs": [],
   "source": [
    "def prepare_X(df):\n",
    "    df = df.copy()\n",
    "    features = base.copy()\n",
    " \n",
    "    df['age'] = 2017 - df.year\n",
    "    features.append('age')\n",
    " \n",
    "    for v in [2, 3, 4]:\n",
    "        feature = 'num_doors_%s' % v\n",
    "        df[feature] = (df['number_of_doors'] == v).astype(int)\n",
    "        features.append(feature)\n",
    " \n",
    "    for v in ['chevrolet', 'ford', 'volkswagen', 'toyota', 'dodge', 'bmw', 'acura', 'lincoln', 'audi', 'volvo', 'honda']:\n",
    "        feature = 'is_make_%s' % v\n",
    "        df[feature] = (df['make'] == v).astype(int)\n",
    "        features.append(feature)\n",
    "     \n",
    "    for v in ['regular_unleaded', 'premium_unleaded_(required)', 'premium_unleaded_(recommended)', 'flex-fuel_(unleaded/e85)']:\n",
    "        feature = 'is_type_%s' % v\n",
    "        df[feature] = (df['engine_fuel_type'] == v).astype(int)\n",
    "        features.append(feature)\n",
    " \n",
    "    for v in ['automatic', 'manual', 'automated_manual']:\n",
    "        feature = 'is_transmission_%s' % v\n",
    "        df[feature] = (df['transmission_type'] == v).astype(int)\n",
    "        features.append(feature)\n",
    " \n",
    "    for v in ['1_series_m', '1_series', 'zdx', 'zephyr' 'venza', 'accord','veloster','tacoma','sienna',\n",
    "                'range_rover_evoque','9-7x', 's-15_jimmy', 'envoy_xl', 'esteem', 'gallardo', 'cts_wagon']:\n",
    "        feature = 'is_model_%s' %v\n",
    "        df[feature] = (df['model'] == v).astype(int)\n",
    "        features.append(feature)\n",
    "        \n",
    "    for v in ['premium_unleaded_(required)', 'premium_unleaded_(recommeded)', 'regular_unleaded' ]:\n",
    "        feature = 'is_eft_%s' %v\n",
    "        df[feature] = (df['engine_fuel_type'] == v).astype(int)\n",
    "        features.append(feature)\n",
    "\n",
    "    for v in ['front_wheel_drive', 'rear_wheel_drive',\n",
    "              'all_wheel_drive', 'four_wheel_drive']:\n",
    "        feature = 'is_driven_wheels_%s' % v\n",
    "        df[feature] = (df['driven_wheels'] == v).astype(int)\n",
    "        features.append(feature)\n",
    " \n",
    "    for v in ['crossover', 'flex_fuel', 'luxury',\n",
    "              'luxury,performance', 'hatchback', 'performance', 'flex_fuel,performance','flex_fuel','hatchback,performance',\n",
    "              'crossover,luxury'\n",
    "             ]:\n",
    "        feature = 'is_mc_%s' % v\n",
    "        df[feature] = (df['market_category'] == v).astype(int)\n",
    "        features.append(feature)\n",
    " \n",
    "    for v in ['compact', 'midsize', 'large']:\n",
    "        feature = 'is_size_%s' % v\n",
    "        df[feature] = (df['vehicle_size'] == v).astype(int)\n",
    "        features.append(feature)\n",
    " \n",
    "    for v in ['sedan', '4dr_suv', 'coupe', 'convertible',\n",
    "              '4dr_hatchback']:\n",
    "        feature = 'is_style_%s' % v\n",
    "        df[feature] = (df['vehicle_style'] == v).astype(int)\n",
    "        features.append(feature)\n",
    "    df_num = df[features]\n",
    "    df_num = df_num.fillna(0)\n",
    "    X = df_num.values\n",
    "    return X"
   ]
  },
  {
   "cell_type": "code",
   "execution_count": 206,
   "id": "2464b0f3",
   "metadata": {},
   "outputs": [],
   "source": [
    "# X_train = prepare_X(df_train)\n",
    "# w0, w = train_linear_reg(X_train, y_train)\n",
    "\n",
    "# X_val = prepare_X(df_val)\n",
    "# y_pred = w0 + X_val.dot(w)\n",
    "\n",
    "# rmse(y_val, y_pred)"
   ]
  },
  {
   "cell_type": "code",
   "execution_count": 207,
   "id": "dd8b0366",
   "metadata": {},
   "outputs": [],
   "source": [
    "def train_linear_regression_reg(X, y, r=0.0):\n",
    "    ones = np.ones(X.shape[0])\n",
    "    X = np.column_stack([ones, X])\n",
    " \n",
    "    XTX = X.T.dot(X)\n",
    "    reg = r * np.eye(XTX.shape[0])\n",
    "    XTX = XTX + reg\n",
    "    XTX_inv = np.linalg.inv(XTX)\n",
    "    w = XTX_inv.dot(X.T).dot(y)\n",
    " \n",
    "    return w[0], w[1:]"
   ]
  },
  {
   "cell_type": "code",
   "execution_count": 212,
   "id": "2cb15a66",
   "metadata": {},
   "outputs": [
    {
     "data": {
      "text/plain": [
       "0.45868724220994245"
      ]
     },
     "execution_count": 212,
     "metadata": {},
     "output_type": "execute_result"
    }
   ],
   "source": [
    "X_train = prepare_X(df_train)\n",
    "w0, w = train_linear_regression_reg(X_train, y_train, r=0.01)\n",
    "\n",
    "X_val = prepare_X(df_val)\n",
    "y_pred = w0 + X_val.dot(w)\n",
    "rmse(y_val, y_pred)"
   ]
  },
  {
   "cell_type": "code",
   "execution_count": 213,
   "id": "7ca40a58",
   "metadata": {},
   "outputs": [
    {
     "data": {
      "text/plain": [
       "array([29122.6411522 , 58381.56697797, 25412.09953749, ...,\n",
       "       45970.43624523, 24708.05033149, 38936.98261176])"
      ]
     },
     "execution_count": 213,
     "metadata": {},
     "output_type": "execute_result"
    }
   ],
   "source": [
    "np.exp(y_pred)-1\n",
    "\n"
   ]
  },
  {
   "cell_type": "code",
   "execution_count": 214,
   "id": "c861fcb0",
   "metadata": {},
   "outputs": [
    {
     "data": {
      "text/plain": [
       "0.4568541377787309"
      ]
     },
     "execution_count": 214,
     "metadata": {},
     "output_type": "execute_result"
    }
   ],
   "source": [
    "X_test = prepare_X(df_test)\n",
    "y_pred = w0 + X_test.dot(w)\n",
    "rmse(y_test, y_pred)\n"
   ]
  },
  {
   "cell_type": "code",
   "execution_count": 215,
   "id": "216b4553",
   "metadata": {},
   "outputs": [],
   "source": [
    "ad = {\n",
    "    'city_mpg': 18,\n",
    "    'driven_wheels': 'all_wheel_drive',\n",
    "    'engine_cylinders': 6.0,\n",
    "    'engine_fuel_type': 'regular_unleaded',\n",
    "    'engine_hp': 268.0,\n",
    "    'highway_mpg': 25,\n",
    "    'make': 'toyota',\n",
    "    'market_category': 'crossover,performance',\n",
    "    'model': 'venza',\n",
    "    'number_of_doors': 4.0,\n",
    "    'popularity': 2031,\n",
    "    'transmission_type': 'automatic',\n",
    "    'vehicle_size': 'midsize',\n",
    "    'vehicle_style': 'wagon',\n",
    "    'year': 2013\n",
    "}\n",
    "df_test = pd.DataFrame([ad])"
   ]
  },
  {
   "cell_type": "code",
   "execution_count": 216,
   "id": "bdc35cd7",
   "metadata": {},
   "outputs": [],
   "source": [
    "X_test = prepare_X(df_test)"
   ]
  },
  {
   "cell_type": "code",
   "execution_count": 217,
   "id": "8ed8d542",
   "metadata": {},
   "outputs": [
    {
     "data": {
      "text/plain": [
       "array([29835.99549657])"
      ]
     },
     "execution_count": 217,
     "metadata": {},
     "output_type": "execute_result"
    }
   ],
   "source": [
    "y_pred = w0 + X_test.dot(w)\n",
    "np.expm1(y_pred)"
   ]
  },
  {
   "cell_type": "code",
   "execution_count": null,
   "id": "c5f9063f",
   "metadata": {},
   "outputs": [],
   "source": [
    "rmse(y_val, y_pre)"
   ]
  }
 ],
 "metadata": {
  "kernelspec": {
   "display_name": "Python 3 (ipykernel)",
   "language": "python",
   "name": "python3"
  },
  "language_info": {
   "codemirror_mode": {
    "name": "ipython",
    "version": 3
   },
   "file_extension": ".py",
   "mimetype": "text/x-python",
   "name": "python",
   "nbconvert_exporter": "python",
   "pygments_lexer": "ipython3",
   "version": "3.10.9"
  }
 },
 "nbformat": 4,
 "nbformat_minor": 5
}
